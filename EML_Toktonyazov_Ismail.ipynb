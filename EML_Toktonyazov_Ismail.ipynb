{
 "cells": [
  {
   "cell_type": "markdown",
   "metadata": {},
   "source": [
    "## Homework №2, done by Toktonyazov Ismail"
   ]
  },
  {
   "cell_type": "markdown",
   "metadata": {},
   "source": [
    "## Task#1"
   ]
  },
  {
   "cell_type": "code",
   "execution_count": 98,
   "metadata": {},
   "outputs": [],
   "source": [
    "import pandas as pd\n",
    "import numpy as np\n",
    "import numpy.linalg as npla\n",
    "import statsmodels.api as sm\n",
    "import scipy.stats as st\n",
    "import scipy.optimize as spopt"
   ]
  },
  {
   "cell_type": "code",
   "execution_count": 4,
   "metadata": {},
   "outputs": [],
   "source": [
    "data = sm.datasets.get_rdataset(\"Guerry\", \"HistData\").data\n",
    "\n",
    "X=data[['Literacy','Donations','Infants', 'Wealth', 'Commerce']]\n",
    "X=sm.add_constant(X)\n",
    "\n",
    "Y=data['Lottery']"
   ]
  },
  {
   "cell_type": "code",
   "execution_count": 5,
   "metadata": {},
   "outputs": [],
   "source": [
    "smfOLS = sm.regression.linear_model.OLS.from_formula"
   ]
  },
  {
   "cell_type": "code",
   "execution_count": 6,
   "metadata": {},
   "outputs": [],
   "source": [
    "def assignment_1_true(formula, data):\n",
    "    \n",
    "    fit = smfOLS(formula, data = data).fit()\n",
    "    \n",
    "    return fit.conf_int()"
   ]
  },
  {
   "cell_type": "code",
   "execution_count": 7,
   "metadata": {},
   "outputs": [
    {
     "data": {
      "text/html": [
       "<div>\n",
       "<style scoped>\n",
       "    .dataframe tbody tr th:only-of-type {\n",
       "        vertical-align: middle;\n",
       "    }\n",
       "\n",
       "    .dataframe tbody tr th {\n",
       "        vertical-align: top;\n",
       "    }\n",
       "\n",
       "    .dataframe thead th {\n",
       "        text-align: right;\n",
       "    }\n",
       "</style>\n",
       "<table border=\"1\" class=\"dataframe\">\n",
       "  <thead>\n",
       "    <tr style=\"text-align: right;\">\n",
       "      <th></th>\n",
       "      <th>0</th>\n",
       "      <th>1</th>\n",
       "    </tr>\n",
       "  </thead>\n",
       "  <tbody>\n",
       "    <tr>\n",
       "      <th>Intercept</th>\n",
       "      <td>-6.027115</td>\n",
       "      <td>41.046645</td>\n",
       "    </tr>\n",
       "    <tr>\n",
       "      <th>Literacy</th>\n",
       "      <td>-0.479342</td>\n",
       "      <td>0.179528</td>\n",
       "    </tr>\n",
       "    <tr>\n",
       "      <th>Donations</th>\n",
       "      <td>-0.000675</td>\n",
       "      <td>0.000954</td>\n",
       "    </tr>\n",
       "    <tr>\n",
       "      <th>Infants</th>\n",
       "      <td>-0.000005</td>\n",
       "      <td>0.001164</td>\n",
       "    </tr>\n",
       "    <tr>\n",
       "      <th>Wealth</th>\n",
       "      <td>0.096173</td>\n",
       "      <td>0.516922</td>\n",
       "    </tr>\n",
       "    <tr>\n",
       "      <th>Commerce</th>\n",
       "      <td>-0.100867</td>\n",
       "      <td>0.405366</td>\n",
       "    </tr>\n",
       "  </tbody>\n",
       "</table>\n",
       "</div>"
      ],
      "text/plain": [
       "                  0          1\n",
       "Intercept -6.027115  41.046645\n",
       "Literacy  -0.479342   0.179528\n",
       "Donations -0.000675   0.000954\n",
       "Infants   -0.000005   0.001164\n",
       "Wealth     0.096173   0.516922\n",
       "Commerce  -0.100867   0.405366"
      ]
     },
     "execution_count": 7,
     "metadata": {},
     "output_type": "execute_result"
    }
   ],
   "source": [
    "assignment_1_true('Lottery ~ Literacy + Donations + Infants + Wealth + Commerce', data)"
   ]
  },
  {
   "cell_type": "code",
   "execution_count": 8,
   "metadata": {},
   "outputs": [],
   "source": [
    "def assignment_1(formula, data):\n",
    "    ycolumn = formula.split(' ~ ')[0]\n",
    "    xcolumns = formula.split(' ~ ')[1].split(' + ')\n",
    "    Y = data[ycolumn].values\n",
    "    X = data[xcolumns].values\n",
    "    X = sm.add_constant(X)\n",
    "    \n",
    "    # My code is here:\n",
    "    beta = npla.solve(X.T@X, X.T@Y)\n",
    "    e = Y - X@beta\n",
    "    cov_matrix = (e.T@e)/(X.shape[0] - X.shape[1]) * npla.inv(X.T@X)\n",
    "    std_errors = np.sqrt(np.diagonal(cov_matrix))\n",
    "    t_score = st.t.ppf((1 + 0.95) / 2, X.shape[0] - X.shape[1])\n",
    "    \n",
    "    results = [[beta[i] - t_score * std_errors[i], beta[i] + t_score * std_errors[i]] for i in range(6)]\n",
    "    \n",
    "    df = pd.DataFrame(results, columns = [0,1])\n",
    "    df.index = np.array(['Intercept'] + xcolumns)\n",
    "    \n",
    "    return df"
   ]
  },
  {
   "cell_type": "code",
   "execution_count": 9,
   "metadata": {},
   "outputs": [
    {
     "data": {
      "text/html": [
       "<div>\n",
       "<style scoped>\n",
       "    .dataframe tbody tr th:only-of-type {\n",
       "        vertical-align: middle;\n",
       "    }\n",
       "\n",
       "    .dataframe tbody tr th {\n",
       "        vertical-align: top;\n",
       "    }\n",
       "\n",
       "    .dataframe thead th {\n",
       "        text-align: right;\n",
       "    }\n",
       "</style>\n",
       "<table border=\"1\" class=\"dataframe\">\n",
       "  <thead>\n",
       "    <tr style=\"text-align: right;\">\n",
       "      <th></th>\n",
       "      <th>0</th>\n",
       "      <th>1</th>\n",
       "    </tr>\n",
       "  </thead>\n",
       "  <tbody>\n",
       "    <tr>\n",
       "      <th>Intercept</th>\n",
       "      <td>-6.027115</td>\n",
       "      <td>41.046645</td>\n",
       "    </tr>\n",
       "    <tr>\n",
       "      <th>Literacy</th>\n",
       "      <td>-0.479342</td>\n",
       "      <td>0.179528</td>\n",
       "    </tr>\n",
       "    <tr>\n",
       "      <th>Donations</th>\n",
       "      <td>-0.000675</td>\n",
       "      <td>0.000954</td>\n",
       "    </tr>\n",
       "    <tr>\n",
       "      <th>Infants</th>\n",
       "      <td>-0.000005</td>\n",
       "      <td>0.001164</td>\n",
       "    </tr>\n",
       "    <tr>\n",
       "      <th>Wealth</th>\n",
       "      <td>0.096173</td>\n",
       "      <td>0.516922</td>\n",
       "    </tr>\n",
       "    <tr>\n",
       "      <th>Commerce</th>\n",
       "      <td>-0.100867</td>\n",
       "      <td>0.405366</td>\n",
       "    </tr>\n",
       "  </tbody>\n",
       "</table>\n",
       "</div>"
      ],
      "text/plain": [
       "                  0          1\n",
       "Intercept -6.027115  41.046645\n",
       "Literacy  -0.479342   0.179528\n",
       "Donations -0.000675   0.000954\n",
       "Infants   -0.000005   0.001164\n",
       "Wealth     0.096173   0.516922\n",
       "Commerce  -0.100867   0.405366"
      ]
     },
     "execution_count": 9,
     "metadata": {},
     "output_type": "execute_result"
    }
   ],
   "source": [
    "assignment_1('Lottery ~ Literacy + Donations + Infants + Wealth + Commerce', data)"
   ]
  },
  {
   "cell_type": "markdown",
   "metadata": {},
   "source": [
    "## Task#2"
   ]
  },
  {
   "cell_type": "code",
   "execution_count": 68,
   "metadata": {},
   "outputs": [],
   "source": [
    "def loss_elastic_net(X, Y, beta, lamda, mu):\n",
    "    e = Y - X@beta\n",
    "    return e@e.T + lamda * beta[1:]@beta[1:].T + mu * abs(beta[1:]).sum()"
   ]
  },
  {
   "cell_type": "code",
   "execution_count": 69,
   "metadata": {},
   "outputs": [],
   "source": [
    "def assignment_2(formula, data, mu, lamda):\n",
    "    ycolumn = formula.split(' ~ ')[0]\n",
    "    xcolumns = formula.split(' ~ ')[1].split(' + ')\n",
    "    Y = data[ycolumn].values\n",
    "    X = data[xcolumns].values\n",
    "    X = sm.add_constant(X)\n",
    "    \n",
    "    # My code is here:\n",
    "    covs = 6\n",
    "    bounds = [(None, None)] * covs\n",
    "    results = spopt.shgo(lambda beta: loss_elastic_net(X, Y, beta, lamda, mu), bounds).x\n",
    "    \n",
    "    df = pd.DataFrame(results, columns = [0])\n",
    "    df.index = np.array(['Intercept'] + xcolumns)\n",
    "    \n",
    "    return df"
   ]
  },
  {
   "cell_type": "code",
   "execution_count": 70,
   "metadata": {},
   "outputs": [
    {
     "data": {
      "text/html": [
       "<div>\n",
       "<style scoped>\n",
       "    .dataframe tbody tr th:only-of-type {\n",
       "        vertical-align: middle;\n",
       "    }\n",
       "\n",
       "    .dataframe tbody tr th {\n",
       "        vertical-align: top;\n",
       "    }\n",
       "\n",
       "    .dataframe thead th {\n",
       "        text-align: right;\n",
       "    }\n",
       "</style>\n",
       "<table border=\"1\" class=\"dataframe\">\n",
       "  <thead>\n",
       "    <tr style=\"text-align: right;\">\n",
       "      <th></th>\n",
       "      <th>0</th>\n",
       "    </tr>\n",
       "  </thead>\n",
       "  <tbody>\n",
       "    <tr>\n",
       "      <th>Intercept</th>\n",
       "      <td>17.509735</td>\n",
       "    </tr>\n",
       "    <tr>\n",
       "      <th>Literacy</th>\n",
       "      <td>-0.149888</td>\n",
       "    </tr>\n",
       "    <tr>\n",
       "      <th>Donations</th>\n",
       "      <td>0.000140</td>\n",
       "    </tr>\n",
       "    <tr>\n",
       "      <th>Infants</th>\n",
       "      <td>0.000579</td>\n",
       "    </tr>\n",
       "    <tr>\n",
       "      <th>Wealth</th>\n",
       "      <td>0.306536</td>\n",
       "    </tr>\n",
       "    <tr>\n",
       "      <th>Commerce</th>\n",
       "      <td>0.152254</td>\n",
       "    </tr>\n",
       "  </tbody>\n",
       "</table>\n",
       "</div>"
      ],
      "text/plain": [
       "                   0\n",
       "Intercept  17.509735\n",
       "Literacy   -0.149888\n",
       "Donations   0.000140\n",
       "Infants     0.000579\n",
       "Wealth      0.306536\n",
       "Commerce    0.152254"
      ]
     },
     "execution_count": 70,
     "metadata": {},
     "output_type": "execute_result"
    }
   ],
   "source": [
    "assignment_2('Lottery ~ Literacy + Donations + Infants + Wealth + Commerce', data, 1, 1)"
   ]
  },
  {
   "cell_type": "markdown",
   "metadata": {},
   "source": [
    "## Task#3"
   ]
  },
  {
   "cell_type": "code",
   "execution_count": 94,
   "metadata": {},
   "outputs": [],
   "source": [
    "from sklearn.model_selection import KFold\n",
    "\n",
    "def SSR(X, y, lamda, mu, folds):\n",
    "    avg = 0\n",
    "    covs = 6\n",
    "    bounds = [(None, None)] * covs\n",
    "    kf = KFold(n_splits=folds)\n",
    "    for train_index, test_index in kf.split(X):\n",
    "        X_train, X_test = X[train_index], X[test_index]\n",
    "        y_train, y_test = y[train_index], y[test_index]\n",
    "        beta = spopt.shgo(lambda beta: loss_elastic_net(X_train, y_train, beta, lamda, mu), bounds).x\n",
    "        errors = X_test@beta - y_test\n",
    "        SSR = errors@errors.T\n",
    "        avg = avg + SSR\n",
    "    return avg/folds"
   ]
  },
  {
   "cell_type": "code",
   "execution_count": 95,
   "metadata": {},
   "outputs": [],
   "source": [
    "def assignment_3(formula, data, folds=5):\n",
    "    ycolumn = formula.split(' ~ ')[0]\n",
    "    xcolumns = formula.split(' ~ ')[1].split(' + ')\n",
    "    Y = data[ycolumn].values\n",
    "    X = data[xcolumns].values\n",
    "    X = sm.add_constant(X)\n",
    "    \n",
    "    # My code is here:\n",
    "    covs = 6\n",
    "    bounds = [(None, None)] * covs\n",
    "    SSR_results = []\n",
    "    for lamda in np.linspace(0, 0.5, 10):\n",
    "        for mu in np.linspace(0, 0.5, 10):\n",
    "            SSR_results.append((SSR(X, Y, lamda, mu, folds), lamda, mu))\n",
    "    SSR_results.sort(key=lambda x: x[0])\n",
    "    optimal_lamda = SSR_results[0][1]\n",
    "    optimal_mu = SSR_results[0][2]\n",
    "    results = spopt.shgo(lambda beta: loss_elastic_net(X, Y, beta, optimal_lamda, optimal_mu), bounds).x\n",
    "    \n",
    "    df = pd.DataFrame(results, columns = [0])\n",
    "    df.index = np.array(['Intercept'] + xcolumns)\n",
    "    \n",
    "    return df"
   ]
  },
  {
   "cell_type": "code",
   "execution_count": 96,
   "metadata": {},
   "outputs": [
    {
     "data": {
      "text/html": [
       "<div>\n",
       "<style scoped>\n",
       "    .dataframe tbody tr th:only-of-type {\n",
       "        vertical-align: middle;\n",
       "    }\n",
       "\n",
       "    .dataframe tbody tr th {\n",
       "        vertical-align: top;\n",
       "    }\n",
       "\n",
       "    .dataframe thead th {\n",
       "        text-align: right;\n",
       "    }\n",
       "</style>\n",
       "<table border=\"1\" class=\"dataframe\">\n",
       "  <thead>\n",
       "    <tr style=\"text-align: right;\">\n",
       "      <th></th>\n",
       "      <th>0</th>\n",
       "    </tr>\n",
       "  </thead>\n",
       "  <tbody>\n",
       "    <tr>\n",
       "      <th>Intercept</th>\n",
       "      <td>17.510310</td>\n",
       "    </tr>\n",
       "    <tr>\n",
       "      <th>Literacy</th>\n",
       "      <td>-0.149902</td>\n",
       "    </tr>\n",
       "    <tr>\n",
       "      <th>Donations</th>\n",
       "      <td>0.000140</td>\n",
       "    </tr>\n",
       "    <tr>\n",
       "      <th>Infants</th>\n",
       "      <td>0.000579</td>\n",
       "    </tr>\n",
       "    <tr>\n",
       "      <th>Wealth</th>\n",
       "      <td>0.306544</td>\n",
       "    </tr>\n",
       "    <tr>\n",
       "      <th>Commerce</th>\n",
       "      <td>0.152254</td>\n",
       "    </tr>\n",
       "  </tbody>\n",
       "</table>\n",
       "</div>"
      ],
      "text/plain": [
       "                   0\n",
       "Intercept  17.510310\n",
       "Literacy   -0.149902\n",
       "Donations   0.000140\n",
       "Infants     0.000579\n",
       "Wealth      0.306544\n",
       "Commerce    0.152254"
      ]
     },
     "execution_count": 96,
     "metadata": {},
     "output_type": "execute_result"
    }
   ],
   "source": [
    "assignment_3('Lottery ~ Literacy + Donations + Infants + Wealth + Commerce', data, folds=5)"
   ]
  },
  {
   "cell_type": "markdown",
   "metadata": {},
   "source": [
    "## Task#4"
   ]
  },
  {
   "cell_type": "markdown",
   "metadata": {},
   "source": [
    "The covariance matrix of the Ridge estimator is:<br>\n",
    "<p style=\"text-align: center;\">$Var[\\hat{\\beta}_{\\lambda}|X]=\\sigma^{2}(X^{\\top}X+\\lambda I)^{-1}X^{\\top}X[(X^{\\top}X+\\lambda I)^{-1}]^{\\top}$</p><br>\n",
    "Hence, the standard errors of the beta coefficients are the elements on the main diagonal of the covariance matrix from which the square root is taken.<br>\n",
    "<b>Proof (covariance matrix calculation):<br></b>\n",
    "Remember that the OLS estimator $\\hat{\\beta}$ has conditional variance:<br>\n",
    "<p style=\"text-align: center;\">$Var[\\hat{\\beta}|X]=\\sigma^{2}(X^{\\top}X)^{-1}$</p><br>\n",
    "We can write the ridge estimator as a function of the OLS estimator:<br>\n",
    "<p style=\"text-align: center;\">$\\hat{\\beta}_{\\lambda}=(X^{\\top}X+\\lambda I)^{-1}X^{\\top}y=$<br></p>\n",
    "<p style=\"text-align: center;\"><br>$=(X^{\\top}X+\\lambda I)^{-1}X^{\\top}X(X^{\\top}X)^{-1}X^{\\top}y=$<br></p>\n",
    "<p style=\"text-align: center;\"><br>$=(X^{\\top}X+\\lambda I)^{-1}X^{\\top}X\\hat{\\beta}$<br></p>\n",
    "Therefore:<br>\n",
    "We will use the following fact: $Var[AY]=AVar(Y)A^{\\top}$\n",
    "<p style=\"text-align: center;\">$Var[\\hat{\\beta}_{\\lambda}|X]=$<br></p>\n",
    "<p style=\"text-align: center;\">$=(X^{\\top}X+\\lambda I)^{-1}X^{\\top}XVar[\\hat{\\beta}|X][(X^{\\top}X+\\lambda I)^{-1}X^{\\top}X]^{\\top}=$<br></p>\n",
    "<p style=\"text-align: center;\">$=(X^{\\top}X+\\lambda I)^{-1}X^{\\top}XVar[\\hat{\\beta}|X]X^{\\top}X[(X^{\\top}X+\\lambda I)^{-1}]^{\\top}=$<br></p>\n",
    "<p style=\"text-align: center;\">$=(X^{\\top}X+\\lambda I)^{-1}X^{\\top}X\\sigma^{2}(X^{\\top}X)^{-1}X^{\\top}X[(X^{\\top}X+\\lambda I)^{-1}]^{\\top}=$<br></p>\n",
    "<p style=\"text-align: center;\">$=\\sigma^{2}(X^{\\top}X+\\lambda I)^{-1}X^{\\top}X[(X^{\\top}X+\\lambda I)^{-1}]^{\\top}$</p>"
   ]
  },
  {
   "cell_type": "code",
   "execution_count": 101,
   "metadata": {},
   "outputs": [],
   "source": [
    "def loss_ridge(X, Y, beta, lamda):\n",
    "    e = Y - X@beta\n",
    "    return e@e.T + lamda * beta[1:]@beta[1:].T"
   ]
  },
  {
   "cell_type": "code",
   "execution_count": 102,
   "metadata": {},
   "outputs": [],
   "source": [
    "def SSR_ridge(X, y, lamda, folds):\n",
    "    avg = 0\n",
    "    covs = 6\n",
    "    bounds = [(None, None)] * covs\n",
    "    kf = KFold(n_splits=folds)\n",
    "    for train_index, test_index in kf.split(X):\n",
    "        X_train, X_test = X[train_index], X[test_index]\n",
    "        y_train, y_test = y[train_index], y[test_index]\n",
    "        beta = spopt.shgo(lambda beta: loss_ridge(X_train, y_train, beta, lamda), bounds).x\n",
    "        errors = X_test@beta - y_test\n",
    "        SSR = errors@errors.T\n",
    "        avg = avg + SSR\n",
    "    return avg/folds"
   ]
  },
  {
   "cell_type": "code",
   "execution_count": 120,
   "metadata": {},
   "outputs": [],
   "source": [
    "def assignment_4(formula, data, folds=5):\n",
    "    ycolumn = formula.split(' ~ ')[0]\n",
    "    xcolumns = formula.split(' ~ ')[1].split(' + ')\n",
    "    Y = data[ycolumn].values\n",
    "    X = data[xcolumns].values\n",
    "    X = sm.add_constant(X)\n",
    "    \n",
    "    # My code is here:\n",
    "    covs = 6\n",
    "    bounds = [(None, None)] * covs\n",
    "    SSR_results = []\n",
    "    for lamda in np.linspace(0, 0.5, 10):\n",
    "        SSR_results.append((SSR_ridge(X, Y, lamda, folds), lamda))\n",
    "    SSR_results.sort(key=lambda x: x[0])\n",
    "    optimal_lamda = SSR_results[0][1]\n",
    "    beta = spopt.shgo(lambda beta: loss_ridge(X, Y, beta, optimal_lamda), bounds).x\n",
    "    e = Y - X@beta\n",
    "    delta_2 = e.T@e/(X.shape[0] - X.shape[1])\n",
    "    cov_matrix = delta_2*npla.inv(X.T@X + optimal_lamda*np.ones(covs))@X.T@X@(npla.inv(X.T@X + optimal_lamda*np.ones(covs))).T\n",
    "    std_errors = np.sqrt(np.diagonal(cov_matrix))\n",
    "    t_score = st.t.ppf((1 + 0.95) / 2, X.shape[0] - X.shape[1])\n",
    "    \n",
    "    results = [[beta[i] - t_score * std_errors[i], beta[i] + t_score * std_errors[i]] for i in range(6)]\n",
    "    \n",
    "    df = pd.DataFrame(results, columns = [0,1])\n",
    "    df.index = np.array(['Intercept'] + xcolumns)\n",
    "    \n",
    "    return df"
   ]
  },
  {
   "cell_type": "code",
   "execution_count": 121,
   "metadata": {},
   "outputs": [
    {
     "data": {
      "text/html": [
       "<div>\n",
       "<style scoped>\n",
       "    .dataframe tbody tr th:only-of-type {\n",
       "        vertical-align: middle;\n",
       "    }\n",
       "\n",
       "    .dataframe tbody tr th {\n",
       "        vertical-align: top;\n",
       "    }\n",
       "\n",
       "    .dataframe thead th {\n",
       "        text-align: right;\n",
       "    }\n",
       "</style>\n",
       "<table border=\"1\" class=\"dataframe\">\n",
       "  <thead>\n",
       "    <tr style=\"text-align: right;\">\n",
       "      <th></th>\n",
       "      <th>0</th>\n",
       "      <th>1</th>\n",
       "    </tr>\n",
       "  </thead>\n",
       "  <tbody>\n",
       "    <tr>\n",
       "      <th>Intercept</th>\n",
       "      <td>-2.863447</td>\n",
       "      <td>37.884986</td>\n",
       "    </tr>\n",
       "    <tr>\n",
       "      <th>Literacy</th>\n",
       "      <td>-0.448337</td>\n",
       "      <td>0.148515</td>\n",
       "    </tr>\n",
       "    <tr>\n",
       "      <th>Donations</th>\n",
       "      <td>-0.000674</td>\n",
       "      <td>0.000954</td>\n",
       "    </tr>\n",
       "    <tr>\n",
       "      <th>Infants</th>\n",
       "      <td>0.000012</td>\n",
       "      <td>0.001146</td>\n",
       "    </tr>\n",
       "    <tr>\n",
       "      <th>Wealth</th>\n",
       "      <td>0.096456</td>\n",
       "      <td>0.516639</td>\n",
       "    </tr>\n",
       "    <tr>\n",
       "      <th>Commerce</th>\n",
       "      <td>-0.093880</td>\n",
       "      <td>0.398389</td>\n",
       "    </tr>\n",
       "  </tbody>\n",
       "</table>\n",
       "</div>"
      ],
      "text/plain": [
       "                  0          1\n",
       "Intercept -2.863447  37.884986\n",
       "Literacy  -0.448337   0.148515\n",
       "Donations -0.000674   0.000954\n",
       "Infants    0.000012   0.001146\n",
       "Wealth     0.096456   0.516639\n",
       "Commerce  -0.093880   0.398389"
      ]
     },
     "execution_count": 121,
     "metadata": {},
     "output_type": "execute_result"
    }
   ],
   "source": [
    "assignment_4('Lottery ~ Literacy + Donations + Infants + Wealth + Commerce', data, folds=5)"
   ]
  },
  {
   "cell_type": "code",
   "execution_count": null,
   "metadata": {},
   "outputs": [],
   "source": []
  }
 ],
 "metadata": {
  "kernelspec": {
   "display_name": "Python 3",
   "language": "python",
   "name": "python3"
  },
  "language_info": {
   "codemirror_mode": {
    "name": "ipython",
    "version": 3
   },
   "file_extension": ".py",
   "mimetype": "text/x-python",
   "name": "python",
   "nbconvert_exporter": "python",
   "pygments_lexer": "ipython3",
   "version": "3.8.5"
  }
 },
 "nbformat": 4,
 "nbformat_minor": 4
}
